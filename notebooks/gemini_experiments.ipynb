{
 "cells": [
  {
   "cell_type": "code",
   "execution_count": 4,
   "metadata": {},
   "outputs": [
    {
     "name": "stdout",
     "output_type": "stream",
     "text": [
      "Generated Q&A Session:\n",
      "{\n",
      "  \"qa_session\": [\n",
      "    {\n",
      "      \"question\": \"What is Generative AI?\",\n",
      "      \"answer\": \"Generative AI refers to artificial intelligence techniques that enable the creation of new content, such as text, images, videos, music, or voices, based on a user-provided prompt.\"\n",
      "    },\n",
      "    {\n",
      "      \"question\": \"What are the capabilities of Generative AI tools?\",\n",
      "      \"answer\": \"Generative AI tools can answer questions, summarize information, and generate creative outputs, such as composing music or generating art.\"\n",
      "    },\n",
      "    {\n",
      "      \"question\": \"Are there any potential risks associated with Generative AI?\",\n",
      "      \"answer\": \"Yes, one potential misuse of Generative AI is the creation of deepfakes, which are realistic fake videos or images that can be used for malicious purposes.\"\n",
      "    }\n",
      "  ]\n",
      "}\n"
     ]
    }
   ],
   "source": [
    "# Import required libraries and load environment variables\n",
    "import os\n",
    "from dotenv import load_dotenv\n",
    "\n",
    "load_dotenv()  # Loads environment variables from .env if present\n",
    "import google.generativeai as genai\n",
    "\n",
    "# Get your Gemini API key from the environment\n",
    "gemini_api_key = os.getenv(\"GEMINI_API_KEY\")\n",
    "if not gemini_api_key:\n",
    "    raise ValueError(\"GEMINI_API_KEY not found. Please set it in your environment or in a .env file.\")\n",
    "\n",
    "# Configure the Gemini API client\n",
    "genai.configure(api_key=gemini_api_key)\n",
    "\n",
    "# Prepare a sample transcription text (this would normally come from your transcription API)\n",
    "transcription_text = \"\"\"\n",
    "What exactly is Generative AI? When new content is created by artificial intelligence, it's called Generative AI.\n",
    "It could involve generating texts, images, videos, music, or voices based on a prompt provided by the user.\n",
    "Generative AI tools can answer questions, summarize information, and generate creative outputs.\n",
    "However, these tools can also be misused, for instance, to create deepfakes.\n",
    "\"\"\"\n",
    "\n",
    "# Build the prompt for generating a Q&A session, embedding the transcription text\n",
    "prompt = f\"\"\"\n",
    "You are an advanced AI assistant trained to extract meaningful insights from transcribed text.\n",
    "        Your task is to analyze the provided transcript and generate a well-structured Q&A session.\n",
    "\n",
    "        Instructions:\n",
    "        - Identify key topics and concepts from the transcription.\n",
    "        - Generate concise and relevant questions that reflect the main ideas.\n",
    "        - Provide clear, informative answers in a structured format.\n",
    "\n",
    "         Transcript:\n",
    "{transcription_text}\n",
    "\n",
    "Please provide the output in the following JSON format:\n",
    "{{\n",
    "  \"qa_session\": [\n",
    "    {{\"question\": \"<question_text>\", \"answer\": \"<answer_text>\"}}\n",
    "  ]\n",
    "}}\n",
    "\"\"\"\n",
    "\n",
    "# Create a GenerativeModel instance using the Gemini API\n",
    "model = genai.GenerativeModel(\"gemini-pro\")\n",
    "\n",
    "# Generate content using the prompt\n",
    "response = model.generate_content(prompt)\n",
    "\n",
    "# Print the generated Q&A session\n",
    "print(\"Generated Q&A Session:\")\n",
    "print(response.text)\n"
   ]
  },
  {
   "cell_type": "code",
   "execution_count": null,
   "metadata": {},
   "outputs": [],
   "source": []
  }
 ],
 "metadata": {
  "kernelspec": {
   "display_name": "Python 3",
   "language": "python",
   "name": "python3"
  },
  "language_info": {
   "codemirror_mode": {
    "name": "ipython",
    "version": 3
   },
   "file_extension": ".py",
   "mimetype": "text/x-python",
   "name": "python",
   "nbconvert_exporter": "python",
   "pygments_lexer": "ipython3",
   "version": "3.12.4"
  }
 },
 "nbformat": 4,
 "nbformat_minor": 2
}
