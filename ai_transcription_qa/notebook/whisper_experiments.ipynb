{
 "cells": [
  {
   "cell_type": "code",
   "execution_count": 1,
   "metadata": {},
   "outputs": [
    {
     "name": "stdout",
     "output_type": "stream",
     "text": [
      "Transcription:\n",
      " What exactly is Generative AI? When new content is created by artificial intelligence, it's called Generative AI. This could involve generating texts and images, as well as videos, music or voices. To do this, you describe in a chat dialog box what you want the AI to create. This description is called a prompt. The Generative AI tools provide answers to all sorts of questions, summarize complex information, and generate diverse ideas quickly. Depending on how they're used, they can create short stories, paintings, pieces of code, or even musical compositions. The foundation for this creation lies in large amounts of data that the AI system accesses to identify patterns and similarities. The content produced by the AI is new. It often impressive and challenging to distinguish from things humans have made Generative AI can also be misused In so deepfakes AI is utilized to produce images or videos that seem real AI-generated texts are also tough to recognize as machine-made. Moreover, the AI can provide answers that sound correct but are actually incorrect. This is called hallucinating. The quality of what's created depends on both the quality of the data used and the quality of the prompts given. To effectively utilise generative AI, we need to learn how to guide the tools with meaningful prompts and use them thoughtfully. Generative AI holds immense potential and can help us in many ways, such as serving as a writing or learning partner. However, the AI should do the hard work and humans should be responsible for the facts.\n"
     ]
    }
   ],
   "source": [
    "# Import required libraries and load environment variables\n",
    "import os\n",
    "from dotenv import load_dotenv\n",
    "load_dotenv()  # Loads environment variables from .env if present\n",
    "\n",
    "# Import the Groq client for Whisper\n",
    "from groq import Groq\n",
    "\n",
    "# Get your API key from the environment\n",
    "groq_api_key = os.getenv(\"GROQ_API_KEY\")\n",
    "if not groq_api_key:\n",
    "    raise ValueError(\"GROQ_API_KEY not found. Please set it in your environment or in a .env file.\")\n",
    "\n",
    "# Initialize the Groq client\n",
    "groq_client = Groq(api_key=groq_api_key)\n",
    "\n",
    "# Specify the path to an audio file you want to transcribe\n",
    "audio_file_path = r\"C:\\Users\\aneet\\Downloads\\Generative AI explained in 2 minutes.mp3\"  # Replace with the actual path to your audio file\n",
    "\n",
    "# Check if the file exists\n",
    "if not os.path.exists(audio_file_path):\n",
    "    raise FileNotFoundError(f\"Audio file not found: {audio_file_path}\")\n",
    "\n",
    "# Open the audio file and perform transcription\n",
    "with open(audio_file_path, \"rb\") as f:\n",
    "    transcription = groq_client.audio.transcriptions.create(\n",
    "        file=f,\n",
    "        model=\"whisper-large-v3\",\n",
    "        response_format=\"json\",\n",
    "        language=\"en\",\n",
    "        temperature=0.0\n",
    "    )\n",
    "\n",
    "\n",
    "# Print the transcription text\n",
    "print(\"Transcription:\")\n",
    "print(transcription.text)\n"
   ]
  },
  {
   "cell_type": "markdown",
   "metadata": {},
   "source": []
  }
 ],
 "metadata": {
  "kernelspec": {
   "display_name": ".venv",
   "language": "python",
   "name": "python3"
  },
  "language_info": {
   "codemirror_mode": {
    "name": "ipython",
    "version": 3
   },
   "file_extension": ".py",
   "mimetype": "text/x-python",
   "name": "python",
   "nbconvert_exporter": "python",
   "pygments_lexer": "ipython3",
   "version": "3.12.4"
  }
 },
 "nbformat": 4,
 "nbformat_minor": 2
}
